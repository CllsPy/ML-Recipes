{
  "nbformat": 4,
  "nbformat_minor": 0,
  "metadata": {
    "colab": {
      "private_outputs": true,
      "provenance": [],
      "gpuType": "T4"
    },
    "kernelspec": {
      "name": "python3",
      "display_name": "Python 3"
    },
    "language_info": {
      "name": "python"
    },
    "accelerator": "GPU"
  },
  "cells": [
    {
      "cell_type": "code",
      "source": [
        "#!pip install --quiet fastai;"
      ],
      "metadata": {
        "id": "5uFNjhHRSNyd"
      },
      "execution_count": null,
      "outputs": []
    },
    {
      "cell_type": "code",
      "source": [
        "from fastai.vision.all import *\n",
        "\n",
        "path = untar_data(URLs.PETS)/'images'\n",
        "\n",
        "def is_cat(x): return x[0].isupper()\n",
        "dls = ImageDataLoaders.from_name_func(\n",
        "    path, get_image_files(path), valid_pct=0.2, seed=42,\n",
        "    label_func=is_cat, item_tfms=Resize(224))\n",
        "\n",
        "learn = vision_learner(dls, resnet34, metrics=error_rate)\n",
        "learn.fine_tune(4)"
      ],
      "metadata": {
        "id": "tHNLaP6iSPUL"
      },
      "execution_count": null,
      "outputs": []
    },
    {
      "cell_type": "code",
      "source": [
        "#!pip install --quiet gradio==4.20.0;"
      ],
      "metadata": {
        "id": "kUIP0f13RfUn"
      },
      "execution_count": null,
      "outputs": []
    },
    {
      "cell_type": "code",
      "source": [
        "import gradio as gr\n",
        "\n",
        "def cat_check(img):\n",
        "    is_cat,_,probs = learn.predict(img)\n",
        "    #return (f\"Probabilidade de ser um gato: {probs[1].item()}%\")\n",
        "    return (f\"É um gato? {is_cat}!\")\n",
        "\n",
        "demo = gr.Interface(fn=cat_check,\n",
        "                    inputs=\"image\",\n",
        "                    outputs=\"label\")\n",
        "\n",
        "demo.launch()"
      ],
      "metadata": {
        "id": "b6Jjtw1QQafw"
      },
      "execution_count": null,
      "outputs": []
    }
  ]
}