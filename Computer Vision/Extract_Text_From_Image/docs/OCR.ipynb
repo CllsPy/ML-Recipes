{
  "nbformat": 4,
  "nbformat_minor": 0,
  "metadata": {
    "colab": {
      "provenance": [],
      "gpuType": "T4"
    },
    "kernelspec": {
      "name": "python3",
      "display_name": "Python 3"
    },
    "language_info": {
      "name": "python"
    },
    "accelerator": "GPU"
  },
  "cells": [
    {
      "cell_type": "markdown",
      "source": [
        "**Resources**\n",
        "\n",
        "<br>\n",
        "\n",
        "- [How to extract text from any image with Deep Learning](https://medium.com/artificialis/how-to-extract-text-from-any-image-with-deep-learning-e834d5a9863e)\n",
        "\n",
        "- [EasyOCR](https://github.com/JaidedAI/EasyOCR)\n",
        "\n",
        "- [Google Conventions](https://google.github.io/styleguide/pyguide.html#s2.6-nested)\n",
        "\n",
        "\n",
        "-  [Google Style Guide Python](https://www.youtube.com/watch?v=K7eICBtjPOA)"
      ],
      "metadata": {
        "id": "VilcMqzFbpfG"
      }
    },
    {
      "cell_type": "markdown",
      "source": [
        "**Requeriments**\n",
        "\n",
        "<br>\n",
        "\n",
        "- Python==3.10.12\n",
        "-  cv2\n",
        "- easyocr"
      ],
      "metadata": {
        "id": "4_8eRqCHiZ7b"
      }
    },
    {
      "cell_type": "code",
      "source": [
        "!pip install --quiet easyocr opencv-python;"
      ],
      "metadata": {
        "id": "WYBKtnUvut9I"
      },
      "execution_count": null,
      "outputs": []
    },
    {
      "cell_type": "code",
      "source": [
        "import cv2\n",
        "from easyocr import Reader\n",
        "from google.colab.patches import cv2_imshow # Specific for Colab"
      ],
      "metadata": {
        "id": "jSyArK_rvFHZ"
      },
      "execution_count": 24,
      "outputs": []
    },
    {
      "cell_type": "markdown",
      "source": [
        "**Passos**\n",
        "\n",
        "<br>\n",
        "\n",
        "1. Definir idioma\n",
        "2. Carregamento da imagem\n",
        "3. Formar a saída do texto\n",
        "4. Socilitar \"leitura\""
      ],
      "metadata": {
        "id": "niwTB0O43QS5"
      }
    },
    {
      "cell_type": "code",
      "source": [
        "langs = ['en']\n",
        "print(langs)\n",
        "\n",
        "image = cv2.imread(\"/content/AA.png\")\n",
        "\n",
        "reader = Reader(langs, gpu=True)\n",
        "results = reader.readtext(image)"
      ],
      "metadata": {
        "colab": {
          "base_uri": "https://localhost:8080/"
        },
        "id": "zEn0NoL5vazf",
        "outputId": "19b27031-77c1-4d48-ce85-1554298a222b"
      },
      "execution_count": 33,
      "outputs": [
        {
          "output_type": "stream",
          "name": "stdout",
          "text": [
            "['en']\n"
          ]
        }
      ]
    },
    {
      "cell_type": "code",
      "source": [
        "for (bbox, text, prob) in results:\n",
        "    print(f\"{text}\")\n",
        "\n",
        "    (top_left, top_right, bottom_right, bottom_left) = bbox\n",
        "\n",
        "    tl = (int(top_left[0]), int(top_left[1]))\n",
        "    tr = (int(top_right[0]), int(top_right[1]))\n",
        "    br = (int(bottom_right[0]), int(bottom_right[1]))\n",
        "    bk = (int(bottom_left[0]), int(bottom_left[1]))\n",
        "\n",
        "    cv2.rectangle(image, tl, br, (0, 0, 225), 2)\n",
        "    cv2.putText(image, text, (tl[0], tl[1] - 10), cv2.FONT_HERSHEY_COMPLEX, 0.8, (0, 0, 255), 2)\n",
        "\n",
        "cv2.waitKey(0)"
      ],
      "metadata": {
        "colab": {
          "base_uri": "https://localhost:8080/"
        },
        "id": "kJbrOO6pztsp",
        "outputId": "2403da81-ce04-4e58-c908-ba79a3ec6aa9"
      },
      "execution_count": 34,
      "outputs": [
        {
          "output_type": "stream",
          "name": "stdout",
          "text": [
            "Era um poema\n",
            "Muito engracado\n",
            "Nao tinha estrofe\n",
            "Nao tinha nada\n"
          ]
        },
        {
          "output_type": "execute_result",
          "data": {
            "text/plain": [
              "-1"
            ]
          },
          "metadata": {},
          "execution_count": 34
        }
      ]
    }
  ]
}