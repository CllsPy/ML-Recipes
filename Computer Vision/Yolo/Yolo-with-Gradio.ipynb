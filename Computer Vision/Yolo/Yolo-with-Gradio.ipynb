{
  "nbformat": 4,
  "nbformat_minor": 0,
  "metadata": {
    "colab": {
      "private_outputs": true,
      "provenance": []
    },
    "kernelspec": {
      "name": "python3",
      "display_name": "Python 3"
    },
    "language_info": {
      "name": "python"
    }
  },
  "cells": [
    {
      "cell_type": "markdown",
      "source": [
        "## Referências\n",
        "\n",
        "- [main](https://medium.com/softplus-publication/video-object-tracking-with-yolov8-and-sort-library-e28444b189aa)"
      ],
      "metadata": {
        "id": "vM7Rt5aW93YQ"
      }
    },
    {
      "cell_type": "markdown",
      "source": [
        "## requirements.txt"
      ],
      "metadata": {
        "id": "z3guvOhE9-Ou"
      }
    },
    {
      "cell_type": "code",
      "execution_count": null,
      "metadata": {
        "id": "tUhLfOiO9wfE"
      },
      "outputs": [],
      "source": [
        "%%capture\n",
        "!pip install ultralytics gradio"
      ]
    },
    {
      "cell_type": "markdown",
      "source": [
        "## call.py"
      ],
      "metadata": {
        "id": "a925RG8ssH6s"
      }
    },
    {
      "cell_type": "code",
      "source": [
        "import cv2\n",
        "import matplotlib.pyplot as plt\n",
        "from ultralytics import YOLO\n",
        "from google.colab.patches import cv2_imshow\n",
        "\n",
        "# Carregar o modelo YOLO\n",
        "MODEL = \"yolov8x.pt\"\n",
        "model = YOLO(MODEL)"
      ],
      "metadata": {
        "id": "Bunf8SX8sQ0M"
      },
      "execution_count": null,
      "outputs": []
    },
    {
      "cell_type": "code",
      "source": [
        "\n",
        "def make_prediction(URL):\n",
        "  # Realizar a detecção na imagem\n",
        "  results = model(URL)\n",
        "  # Extrair a imagem com as anotações de detecção\n",
        "  annotated_img = results[0].plot()\n",
        "\n",
        "  # Usando cv2_imshow no Colab para mostrar a imagem\n",
        "  return annotated_img\n"
      ],
      "metadata": {
        "id": "yFrK0h7V-EBg"
      },
      "execution_count": null,
      "outputs": []
    },
    {
      "cell_type": "markdown",
      "source": [
        "## app.y"
      ],
      "metadata": {
        "id": "8ev8JuRbsL-z"
      }
    },
    {
      "cell_type": "code",
      "source": [
        "import gradio as gr\n",
        "\n",
        "demo = gr.Interface(\n",
        "    make_prediction,\n",
        "    [\n",
        "        gr.Textbox(label=\"URL da imagem\", info=\"escolha uma imagem\"),\n",
        "    ],\n",
        "    \"image\",\n",
        "    examples=[\n",
        "        [\"https://blog-obahortifruti.redeoba.com.br/wp-content/uploads/2022/09/260-65_OB-CAPAS-1920X792-BLOG-SET-FRUTAS.jpg\"],\n",
        "\n",
        "    ],\n",
        ")\n",
        "\n",
        "demo.launch(debug=True)"
      ],
      "metadata": {
        "id": "jZmFG7xxsMh5"
      },
      "execution_count": null,
      "outputs": []
    },
    {
      "cell_type": "code",
      "source": [],
      "metadata": {
        "id": "0nDa5-cxtOI3"
      },
      "execution_count": null,
      "outputs": []
    }
  ]
}